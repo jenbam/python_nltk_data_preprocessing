{
  "nbformat": 4,
  "nbformat_minor": 0,
  "metadata": {
    "colab": {
      "name": "Classification.ipynb",
      "provenance": [],
      "authorship_tag": "ABX9TyMcMODkjZozEkVJrNWynwXM",
      "include_colab_link": true
    },
    "kernelspec": {
      "name": "python3",
      "display_name": "Python 3"
    },
    "language_info": {
      "name": "python"
    }
  },
  "cells": [
    {
      "cell_type": "markdown",
      "metadata": {
        "id": "view-in-github",
        "colab_type": "text"
      },
      "source": [
        "<a href=\"https://colab.research.google.com/github/jenbam/python_nltk_data_preprocessing/blob/main/Classification.ipynb\" target=\"_parent\"><img src=\"https://colab.research.google.com/assets/colab-badge.svg\" alt=\"Open In Colab\"/></a>"
      ]
    },
    {
      "cell_type": "code",
      "execution_count": 1,
      "metadata": {
        "id": "tUFDyMr3Y8VI"
      },
      "outputs": [],
      "source": [
        "import pandas as pd\n",
        "import numpy as np\n",
        "from sklearn.preprocessing import LabelEncoder # converts our text in numerical form\n",
        "from sklearn.model_selection import train_test_split"
      ]
    },
    {
      "cell_type": "code",
      "source": [
        "# getting data set\n",
        "df = pd.read_csv(\"/content/sample_data/california_housing_train.csv\")"
      ],
      "metadata": {
        "id": "1phc5P4ccaSl"
      },
      "execution_count": 20,
      "outputs": []
    },
    {
      "cell_type": "code",
      "source": [
        "df.shape"
      ],
      "metadata": {
        "colab": {
          "base_uri": "https://localhost:8080/"
        },
        "id": "Njsmu255q_W8",
        "outputId": "8a95caef-3039-4951-ab6f-bec6f92576e5"
      },
      "execution_count": 21,
      "outputs": [
        {
          "output_type": "execute_result",
          "data": {
            "text/plain": [
              "(17000, 9)"
            ]
          },
          "metadata": {},
          "execution_count": 21
        }
      ]
    },
    {
      "cell_type": "code",
      "source": [
        "df.head"
      ],
      "metadata": {
        "colab": {
          "base_uri": "https://localhost:8080/"
        },
        "id": "tW-qaALYrHQV",
        "outputId": "9106c846-257c-4645-a403-c426c338ba01"
      },
      "execution_count": 23,
      "outputs": [
        {
          "output_type": "execute_result",
          "data": {
            "text/plain": [
              "<bound method NDFrame.head of        longitude  latitude  housing_median_age  total_rooms  total_bedrooms  \\\n",
              "0        -114.31     34.19                15.0       5612.0          1283.0   \n",
              "1        -114.47     34.40                19.0       7650.0          1901.0   \n",
              "2        -114.56     33.69                17.0        720.0           174.0   \n",
              "3        -114.57     33.64                14.0       1501.0           337.0   \n",
              "4        -114.57     33.57                20.0       1454.0           326.0   \n",
              "...          ...       ...                 ...          ...             ...   \n",
              "16995    -124.26     40.58                52.0       2217.0           394.0   \n",
              "16996    -124.27     40.69                36.0       2349.0           528.0   \n",
              "16997    -124.30     41.84                17.0       2677.0           531.0   \n",
              "16998    -124.30     41.80                19.0       2672.0           552.0   \n",
              "16999    -124.35     40.54                52.0       1820.0           300.0   \n",
              "\n",
              "       population  households  median_income  median_house_value  \n",
              "0          1015.0       472.0         1.4936             66900.0  \n",
              "1          1129.0       463.0         1.8200             80100.0  \n",
              "2           333.0       117.0         1.6509             85700.0  \n",
              "3           515.0       226.0         3.1917             73400.0  \n",
              "4           624.0       262.0         1.9250             65500.0  \n",
              "...           ...         ...            ...                 ...  \n",
              "16995       907.0       369.0         2.3571            111400.0  \n",
              "16996      1194.0       465.0         2.5179             79000.0  \n",
              "16997      1244.0       456.0         3.0313            103600.0  \n",
              "16998      1298.0       478.0         1.9797             85800.0  \n",
              "16999       806.0       270.0         3.0147             94600.0  \n",
              "\n",
              "[17000 rows x 9 columns]>"
            ]
          },
          "metadata": {},
          "execution_count": 23
        }
      ]
    },
    {
      "cell_type": "code",
      "source": [
        "le = LabelEncoder()"
      ],
      "metadata": {
        "id": "j9X3OENArROw"
      },
      "execution_count": 24,
      "outputs": []
    },
    {
      "cell_type": "code",
      "source": [
        "df_encoded = df.apply(le.fit_transform, axis=0)"
      ],
      "metadata": {
        "id": "JZc9YoZpwON6"
      },
      "execution_count": 25,
      "outputs": []
    },
    {
      "cell_type": "code",
      "source": [
        "df_encoded.head"
      ],
      "metadata": {
        "colab": {
          "base_uri": "https://localhost:8080/"
        },
        "id": "PoC_k--MwrTH",
        "outputId": "0671d8eb-b3df-483e-884c-edb8277d59d2"
      },
      "execution_count": 26,
      "outputs": [
        {
          "output_type": "execute_result",
          "data": {
            "text/plain": [
              "<bound method NDFrame.head of        longitude  latitude  housing_median_age  total_rooms  total_bedrooms  \\\n",
              "0            826       165                  14         4529            1258   \n",
              "1            825       186                  18         5045            1605   \n",
              "2            824       115                  16          526             173   \n",
              "3            823       110                  13         1285             336   \n",
              "4            823       103                  19         1238             325   \n",
              "...          ...       ...                 ...          ...             ...   \n",
              "16995          3       759                  51         2000             393   \n",
              "16996          2       770                  35         2132             527   \n",
              "16997          1       836                  16         2458             530   \n",
              "16998          1       833                  18         2453             551   \n",
              "16999          0       755                  51         1603             299   \n",
              "\n",
              "       population  households  median_income  median_house_value  \n",
              "0             972         471            539                 246  \n",
              "1            1086         462           1106                 376  \n",
              "2             291         116            781                 432  \n",
              "3             472         225           4336                 310  \n",
              "4             581         261           1291                 233  \n",
              "...           ...         ...            ...                 ...  \n",
              "16995         864         368           2308                 688  \n",
              "16996        1151         464           2652                 365  \n",
              "16997        1201         455           3901                 611  \n",
              "16998        1255         477           1404                 433  \n",
              "16999         763         269           3850                 521  \n",
              "\n",
              "[17000 rows x 9 columns]>"
            ]
          },
          "metadata": {},
          "execution_count": 26
        }
      ]
    },
    {
      "cell_type": "code",
      "source": [
        "df = df_encoded.values"
      ],
      "metadata": {
        "id": "WVQT34sxw3XW"
      },
      "execution_count": 27,
      "outputs": []
    },
    {
      "cell_type": "code",
      "source": [
        "X = df[: , 1: ]\n",
        "X"
      ],
      "metadata": {
        "colab": {
          "base_uri": "https://localhost:8080/"
        },
        "id": "ez7tM9dLysJp",
        "outputId": "ec5e2a2a-0bc6-4bba-e77f-14dfac286760"
      },
      "execution_count": 30,
      "outputs": [
        {
          "output_type": "execute_result",
          "data": {
            "text/plain": [
              "array([[ 165,   14, 4529, ...,  471,  539,  246],\n",
              "       [ 186,   18, 5045, ...,  462, 1106,  376],\n",
              "       [ 115,   16,  526, ...,  116,  781,  432],\n",
              "       ...,\n",
              "       [ 836,   16, 2458, ...,  455, 3901,  611],\n",
              "       [ 833,   18, 2453, ...,  477, 1404,  433],\n",
              "       [ 755,   51, 1603, ...,  269, 3850,  521]])"
            ]
          },
          "metadata": {},
          "execution_count": 30
        }
      ]
    },
    {
      "cell_type": "code",
      "source": [
        "y = df[: , 0]\n",
        "y"
      ],
      "metadata": {
        "id": "r-n3PoRK5hs3",
        "outputId": "9d9f7ae5-b630-4406-b8cb-87b469949c40",
        "colab": {
          "base_uri": "https://localhost:8080/"
        }
      },
      "execution_count": 31,
      "outputs": [
        {
          "output_type": "execute_result",
          "data": {
            "text/plain": [
              "array([826, 825, 824, ...,   1,   1,   0])"
            ]
          },
          "metadata": {},
          "execution_count": 31
        }
      ]
    },
    {
      "cell_type": "code",
      "source": [
        ""
      ],
      "metadata": {
        "id": "oDDOPm4A5tzY"
      },
      "execution_count": null,
      "outputs": []
    }
  ]
}