{
  "nbformat": 4,
  "nbformat_minor": 0,
  "metadata": {
    "colab": {
      "name": "Classification.ipynb",
      "provenance": [],
      "collapsed_sections": [],
      "authorship_tag": "ABX9TyMSQAuQiuc8MlN/v39Sh0ms",
      "include_colab_link": true
    },
    "kernelspec": {
      "name": "python3",
      "display_name": "Python 3"
    },
    "language_info": {
      "name": "python"
    }
  },
  "cells": [
    {
      "cell_type": "markdown",
      "metadata": {
        "id": "view-in-github",
        "colab_type": "text"
      },
      "source": [
        "<a href=\"https://colab.research.google.com/github/jenbam/python_nltk_data_preprocessing/blob/main/Classification.ipynb\" target=\"_parent\"><img src=\"https://colab.research.google.com/assets/colab-badge.svg\" alt=\"Open In Colab\"/></a>"
      ]
    },
    {
      "cell_type": "code",
      "execution_count": 1,
      "metadata": {
        "id": "tUFDyMr3Y8VI"
      },
      "outputs": [],
      "source": [
        "import pandas as pd\n",
        "import numpy as np\n",
        "from sklearn.preprocessing import LabelEncoder # converts our text in numerical form\n",
        "from sklearn.model_selection import train_test_split"
      ]
    },
    {
      "cell_type": "code",
      "source": [
        "# getting data set\n",
        "df = pd.read_csv(\"/content/sample_data/california_housing_train.csv\")"
      ],
      "metadata": {
        "id": "1phc5P4ccaSl"
      },
      "execution_count": 2,
      "outputs": []
    },
    {
      "cell_type": "code",
      "source": [
        "df.shape"
      ],
      "metadata": {
        "colab": {
          "base_uri": "https://localhost:8080/"
        },
        "id": "Njsmu255q_W8",
        "outputId": "979afacc-199b-40f0-ef4f-167fef62a08d"
      },
      "execution_count": 3,
      "outputs": [
        {
          "output_type": "execute_result",
          "data": {
            "text/plain": [
              "(17000, 9)"
            ]
          },
          "metadata": {},
          "execution_count": 3
        }
      ]
    },
    {
      "cell_type": "code",
      "source": [
        "df.head"
      ],
      "metadata": {
        "colab": {
          "base_uri": "https://localhost:8080/"
        },
        "id": "tW-qaALYrHQV",
        "outputId": "a17fc3a2-5def-49b0-c11e-89c9f27720ff"
      },
      "execution_count": 4,
      "outputs": [
        {
          "output_type": "execute_result",
          "data": {
            "text/plain": [
              "<bound method NDFrame.head of        longitude  latitude  housing_median_age  total_rooms  total_bedrooms  \\\n",
              "0        -114.31     34.19                15.0       5612.0          1283.0   \n",
              "1        -114.47     34.40                19.0       7650.0          1901.0   \n",
              "2        -114.56     33.69                17.0        720.0           174.0   \n",
              "3        -114.57     33.64                14.0       1501.0           337.0   \n",
              "4        -114.57     33.57                20.0       1454.0           326.0   \n",
              "...          ...       ...                 ...          ...             ...   \n",
              "16995    -124.26     40.58                52.0       2217.0           394.0   \n",
              "16996    -124.27     40.69                36.0       2349.0           528.0   \n",
              "16997    -124.30     41.84                17.0       2677.0           531.0   \n",
              "16998    -124.30     41.80                19.0       2672.0           552.0   \n",
              "16999    -124.35     40.54                52.0       1820.0           300.0   \n",
              "\n",
              "       population  households  median_income  median_house_value  \n",
              "0          1015.0       472.0         1.4936             66900.0  \n",
              "1          1129.0       463.0         1.8200             80100.0  \n",
              "2           333.0       117.0         1.6509             85700.0  \n",
              "3           515.0       226.0         3.1917             73400.0  \n",
              "4           624.0       262.0         1.9250             65500.0  \n",
              "...           ...         ...            ...                 ...  \n",
              "16995       907.0       369.0         2.3571            111400.0  \n",
              "16996      1194.0       465.0         2.5179             79000.0  \n",
              "16997      1244.0       456.0         3.0313            103600.0  \n",
              "16998      1298.0       478.0         1.9797             85800.0  \n",
              "16999       806.0       270.0         3.0147             94600.0  \n",
              "\n",
              "[17000 rows x 9 columns]>"
            ]
          },
          "metadata": {},
          "execution_count": 4
        }
      ]
    },
    {
      "cell_type": "code",
      "source": [
        "le = LabelEncoder()"
      ],
      "metadata": {
        "id": "j9X3OENArROw"
      },
      "execution_count": 5,
      "outputs": []
    },
    {
      "cell_type": "code",
      "source": [
        "df_encoded = df.apply(le.fit_transform, axis=0)"
      ],
      "metadata": {
        "id": "JZc9YoZpwON6"
      },
      "execution_count": 6,
      "outputs": []
    },
    {
      "cell_type": "code",
      "source": [
        "df_encoded.head"
      ],
      "metadata": {
        "colab": {
          "base_uri": "https://localhost:8080/"
        },
        "id": "PoC_k--MwrTH",
        "outputId": "d14ae3f0-e493-46af-b092-ccfd1ba197e9"
      },
      "execution_count": 7,
      "outputs": [
        {
          "output_type": "execute_result",
          "data": {
            "text/plain": [
              "<bound method NDFrame.head of        longitude  latitude  housing_median_age  total_rooms  total_bedrooms  \\\n",
              "0            826       165                  14         4529            1258   \n",
              "1            825       186                  18         5045            1605   \n",
              "2            824       115                  16          526             173   \n",
              "3            823       110                  13         1285             336   \n",
              "4            823       103                  19         1238             325   \n",
              "...          ...       ...                 ...          ...             ...   \n",
              "16995          3       759                  51         2000             393   \n",
              "16996          2       770                  35         2132             527   \n",
              "16997          1       836                  16         2458             530   \n",
              "16998          1       833                  18         2453             551   \n",
              "16999          0       755                  51         1603             299   \n",
              "\n",
              "       population  households  median_income  median_house_value  \n",
              "0             972         471            539                 246  \n",
              "1            1086         462           1106                 376  \n",
              "2             291         116            781                 432  \n",
              "3             472         225           4336                 310  \n",
              "4             581         261           1291                 233  \n",
              "...           ...         ...            ...                 ...  \n",
              "16995         864         368           2308                 688  \n",
              "16996        1151         464           2652                 365  \n",
              "16997        1201         455           3901                 611  \n",
              "16998        1255         477           1404                 433  \n",
              "16999         763         269           3850                 521  \n",
              "\n",
              "[17000 rows x 9 columns]>"
            ]
          },
          "metadata": {},
          "execution_count": 7
        }
      ]
    },
    {
      "cell_type": "code",
      "source": [
        "df = df_encoded.values"
      ],
      "metadata": {
        "id": "WVQT34sxw3XW"
      },
      "execution_count": 8,
      "outputs": []
    },
    {
      "cell_type": "code",
      "source": [
        "X = df[: , 1: ]\n",
        "X"
      ],
      "metadata": {
        "colab": {
          "base_uri": "https://localhost:8080/"
        },
        "id": "ez7tM9dLysJp",
        "outputId": "e2d1d6b6-2a58-4ca5-8f25-e645272cab19"
      },
      "execution_count": 9,
      "outputs": [
        {
          "output_type": "execute_result",
          "data": {
            "text/plain": [
              "array([[ 165,   14, 4529, ...,  471,  539,  246],\n",
              "       [ 186,   18, 5045, ...,  462, 1106,  376],\n",
              "       [ 115,   16,  526, ...,  116,  781,  432],\n",
              "       ...,\n",
              "       [ 836,   16, 2458, ...,  455, 3901,  611],\n",
              "       [ 833,   18, 2453, ...,  477, 1404,  433],\n",
              "       [ 755,   51, 1603, ...,  269, 3850,  521]])"
            ]
          },
          "metadata": {},
          "execution_count": 9
        }
      ]
    },
    {
      "cell_type": "code",
      "source": [
        "y = df[: , 0]\n",
        "y"
      ],
      "metadata": {
        "colab": {
          "base_uri": "https://localhost:8080/"
        },
        "id": "r-n3PoRK5hs3",
        "outputId": "06fb0005-e1a3-46bc-bffb-a4e47f8943c5"
      },
      "execution_count": 10,
      "outputs": [
        {
          "output_type": "execute_result",
          "data": {
            "text/plain": [
              "array([826, 825, 824, ...,   1,   1,   0])"
            ]
          },
          "metadata": {},
          "execution_count": 10
        }
      ]
    },
    {
      "cell_type": "code",
      "source": [
        "X_train, y_train, X_test, y_test = train_test_split( X, y ,  test_size=0.20, random_state=42)"
      ],
      "metadata": {
        "id": "oDDOPm4A5tzY"
      },
      "execution_count": 11,
      "outputs": []
    },
    {
      "cell_type": "markdown",
      "source": [
        "# Posterior Probability\n",
        "# Likelihood\n",
        "# Prior Probability"
      ],
      "metadata": {
        "id": "kZIREE-bsl6I"
      }
    },
    {
      "cell_type": "code",
      "source": [
        ""
      ],
      "metadata": {
        "id": "BxE9DMO2ubMe"
      },
      "execution_count": 11,
      "outputs": []
    },
    {
      "cell_type": "code",
      "source": [
        "# Prior Probability\n",
        "\n",
        "def prior_probab(y_train, label):    # label refers to x and zero values\n",
        "  m = y_train.shape[0] # first value\n",
        "  s = np.sum(y_train == label)  # y value has only class values\n",
        "\n",
        "  return m/s"
      ],
      "metadata": {
        "id": "f2FcgfOa9VaM"
      },
      "execution_count": 12,
      "outputs": []
    },
    {
      "cell_type": "code",
      "source": [
        "# Likelihood (for this we need conditional probability)\n",
        "def cond_probab(X_train,y_train, feature_col, feature_val, label):\n",
        "  X_filtered = X_train[y_train == label] # email values which are either spam or not spam\n",
        "  num = np.sum(X_filtered[:,feature_col] == feature_val)\n",
        "  denom = X_filtered.shape[0]\n",
        "  return float(num/denom)\n",
        "  \n"
      ],
      "metadata": {
        "id": "8jMQ1mJKvg7E"
      },
      "execution_count": 13,
      "outputs": []
    },
    {
      "cell_type": "code",
      "source": [
        "def predict(X_train, y_train, X_test):\n",
        "  classes = np.unique(y_train)\n",
        "  n_features = X_train.shape[1]\n",
        "  posterior_probab = [] # probability of word being spam or not\n",
        "\n",
        "  for label in classes:   # classes ={0,1}\n",
        "    likelihood = 1.0  # initialise it randomly\n",
        "    for feature in range(n_features):\n",
        "      cond = cond_probab(X_train,y_train, feature, X_test[feature], label)\n",
        "      likelihood = likelihood * cond\n",
        "\n",
        "  prior = prior_probab(y_train, label)\n",
        "  posterior = likelihood * prior  \n",
        "\n",
        "  posterior_probab.append(posterior)  \n",
        "\n",
        "  pred = np.argmax(posterior_probab)\n",
        "\n",
        "  return pred \n",
        "  \n",
        "     \n"
      ],
      "metadata": {
        "id": "-5rrs3DA6w08"
      },
      "execution_count": 14,
      "outputs": []
    },
    {
      "cell_type": "code",
      "source": [
        "#accuracy \n",
        "def accuracy(X_train, y_train, X_test, y_test):\n",
        "  pred = []\n",
        "\n",
        "  for i in range(X_test.shape[0]):\n",
        "    p = predict(X_train, y_train, X_test[i])\n",
        "    pred.append(p)\n",
        "\n",
        "    y_pred = np.array(pred)\n",
        "    acc = np.sum(y_pred == y_test)/y_pred.shape[0]\n",
        "\n",
        "    return acc \n"
      ],
      "metadata": {
        "id": "Xr4bveWA672E"
      },
      "execution_count": 15,
      "outputs": []
    },
    {
      "cell_type": "code",
      "source": [
        "accuracy(X_train, y_train, X_test, y_test)"
      ],
      "metadata": {
        "colab": {
          "base_uri": "https://localhost:8080/",
          "height": 312
        },
        "id": "IOPW_sRjCbu_",
        "outputId": "a556a447-07e4-4455-e341-1955b8b631c7"
      },
      "execution_count": 16,
      "outputs": [
        {
          "output_type": "error",
          "ename": "IndexError",
          "evalue": "ignored",
          "traceback": [
            "\u001b[0;31m---------------------------------------------------------------------------\u001b[0m",
            "\u001b[0;31mIndexError\u001b[0m                                Traceback (most recent call last)",
            "\u001b[0;32m<ipython-input-16-1994603f29c0>\u001b[0m in \u001b[0;36m<module>\u001b[0;34m()\u001b[0m\n\u001b[0;32m----> 1\u001b[0;31m \u001b[0maccuracy\u001b[0m\u001b[0;34m(\u001b[0m\u001b[0mX_train\u001b[0m\u001b[0;34m,\u001b[0m \u001b[0my_train\u001b[0m\u001b[0;34m,\u001b[0m \u001b[0mX_test\u001b[0m\u001b[0;34m,\u001b[0m \u001b[0my_test\u001b[0m\u001b[0;34m)\u001b[0m\u001b[0;34m\u001b[0m\u001b[0;34m\u001b[0m\u001b[0m\n\u001b[0m",
            "\u001b[0;32m<ipython-input-15-b10efca00dc7>\u001b[0m in \u001b[0;36maccuracy\u001b[0;34m(X_train, y_train, X_test, y_test)\u001b[0m\n\u001b[1;32m      4\u001b[0m \u001b[0;34m\u001b[0m\u001b[0m\n\u001b[1;32m      5\u001b[0m   \u001b[0;32mfor\u001b[0m \u001b[0mi\u001b[0m \u001b[0;32min\u001b[0m \u001b[0mrange\u001b[0m\u001b[0;34m(\u001b[0m\u001b[0mX_test\u001b[0m\u001b[0;34m.\u001b[0m\u001b[0mshape\u001b[0m\u001b[0;34m[\u001b[0m\u001b[0;36m0\u001b[0m\u001b[0;34m]\u001b[0m\u001b[0;34m)\u001b[0m\u001b[0;34m:\u001b[0m\u001b[0;34m\u001b[0m\u001b[0;34m\u001b[0m\u001b[0m\n\u001b[0;32m----> 6\u001b[0;31m     \u001b[0mp\u001b[0m \u001b[0;34m=\u001b[0m \u001b[0mpredict\u001b[0m\u001b[0;34m(\u001b[0m\u001b[0mX_train\u001b[0m\u001b[0;34m,\u001b[0m \u001b[0my_train\u001b[0m\u001b[0;34m,\u001b[0m \u001b[0mX_test\u001b[0m\u001b[0;34m[\u001b[0m\u001b[0mi\u001b[0m\u001b[0;34m]\u001b[0m\u001b[0;34m)\u001b[0m\u001b[0;34m\u001b[0m\u001b[0;34m\u001b[0m\u001b[0m\n\u001b[0m\u001b[1;32m      7\u001b[0m     \u001b[0mpred\u001b[0m\u001b[0;34m.\u001b[0m\u001b[0mappend\u001b[0m\u001b[0;34m(\u001b[0m\u001b[0mp\u001b[0m\u001b[0;34m)\u001b[0m\u001b[0;34m\u001b[0m\u001b[0;34m\u001b[0m\u001b[0m\n\u001b[1;32m      8\u001b[0m \u001b[0;34m\u001b[0m\u001b[0m\n",
            "\u001b[0;32m<ipython-input-14-eb1288be56a7>\u001b[0m in \u001b[0;36mpredict\u001b[0;34m(X_train, y_train, X_test)\u001b[0m\n\u001b[1;32m      7\u001b[0m     \u001b[0mlikelihood\u001b[0m \u001b[0;34m=\u001b[0m \u001b[0;36m1.0\u001b[0m  \u001b[0;31m# initialise it randomly\u001b[0m\u001b[0;34m\u001b[0m\u001b[0;34m\u001b[0m\u001b[0m\n\u001b[1;32m      8\u001b[0m     \u001b[0;32mfor\u001b[0m \u001b[0mfeature\u001b[0m \u001b[0;32min\u001b[0m \u001b[0mrange\u001b[0m\u001b[0;34m(\u001b[0m\u001b[0mn_features\u001b[0m\u001b[0;34m)\u001b[0m\u001b[0;34m:\u001b[0m\u001b[0;34m\u001b[0m\u001b[0;34m\u001b[0m\u001b[0m\n\u001b[0;32m----> 9\u001b[0;31m       \u001b[0mcond\u001b[0m \u001b[0;34m=\u001b[0m \u001b[0mcond_probab\u001b[0m\u001b[0;34m(\u001b[0m\u001b[0mX_train\u001b[0m\u001b[0;34m,\u001b[0m\u001b[0my_train\u001b[0m\u001b[0;34m,\u001b[0m \u001b[0mfeature\u001b[0m\u001b[0;34m,\u001b[0m \u001b[0mX_test\u001b[0m\u001b[0;34m[\u001b[0m\u001b[0mfeature\u001b[0m\u001b[0;34m]\u001b[0m\u001b[0;34m,\u001b[0m \u001b[0mlabel\u001b[0m\u001b[0;34m)\u001b[0m\u001b[0;34m\u001b[0m\u001b[0;34m\u001b[0m\u001b[0m\n\u001b[0m\u001b[1;32m     10\u001b[0m       \u001b[0mlikelihood\u001b[0m \u001b[0;34m=\u001b[0m \u001b[0mlikelihood\u001b[0m \u001b[0;34m*\u001b[0m \u001b[0mcond\u001b[0m\u001b[0;34m\u001b[0m\u001b[0;34m\u001b[0m\u001b[0m\n\u001b[1;32m     11\u001b[0m \u001b[0;34m\u001b[0m\u001b[0m\n",
            "\u001b[0;31mIndexError\u001b[0m: invalid index to scalar variable."
          ]
        }
      ]
    },
    {
      "cell_type": "code",
      "source": [
        ""
      ],
      "metadata": {
        "id": "Rj6z3hYlDi7J"
      },
      "execution_count": null,
      "outputs": []
    }
  ]
}