{
  "nbformat": 4,
  "nbformat_minor": 0,
  "metadata": {
    "colab": {
      "name": "Classification.ipynb",
      "provenance": [],
      "authorship_tag": "ABX9TyPrSynxJnp0JckEchoczzAX",
      "include_colab_link": true
    },
    "kernelspec": {
      "name": "python3",
      "display_name": "Python 3"
    },
    "language_info": {
      "name": "python"
    }
  },
  "cells": [
    {
      "cell_type": "markdown",
      "metadata": {
        "id": "view-in-github",
        "colab_type": "text"
      },
      "source": [
        "<a href=\"https://colab.research.google.com/github/jenbam/python_nltk_data_preprocessing/blob/main/Classification.ipynb\" target=\"_parent\"><img src=\"https://colab.research.google.com/assets/colab-badge.svg\" alt=\"Open In Colab\"/></a>"
      ]
    },
    {
      "cell_type": "code",
      "execution_count": 1,
      "metadata": {
        "id": "tUFDyMr3Y8VI"
      },
      "outputs": [],
      "source": [
        "import pandas as pd\n",
        "import numpy as np\n",
        "from sklearn.preprocessing import LabelEncoder # converts our text in numerical form\n",
        "from sklearn.model_selection import train_test_split"
      ]
    },
    {
      "cell_type": "code",
      "source": [
        "# getting data set\n",
        "df = pd.read_csv(\"/content/Submission_View-2022-05-08.csv\")"
      ],
      "metadata": {
        "id": "1phc5P4ccaSl"
      },
      "execution_count": 12,
      "outputs": []
    },
    {
      "cell_type": "code",
      "source": [
        "df.shape"
      ],
      "metadata": {
        "colab": {
          "base_uri": "https://localhost:8080/"
        },
        "id": "Njsmu255q_W8",
        "outputId": "9b2dd679-5d62-4364-a85b-ec4ff49259f8"
      },
      "execution_count": 13,
      "outputs": [
        {
          "output_type": "execute_result",
          "data": {
            "text/plain": [
              "(310, 65)"
            ]
          },
          "metadata": {},
          "execution_count": 13
        }
      ]
    },
    {
      "cell_type": "code",
      "source": [
        "df.head"
      ],
      "metadata": {
        "colab": {
          "base_uri": "https://localhost:8080/"
        },
        "id": "tW-qaALYrHQV",
        "outputId": "768f58df-37cd-491c-a122-09f88c2b3c1d"
      },
      "execution_count": 14,
      "outputs": [
        {
          "output_type": "execute_result",
          "data": {
            "text/plain": [
              "<bound method NDFrame.head of      Unnamed: 0  Submission Number Project ID       Activity Ref No.   \\\n",
              "0        699927              18547    P130339   IN-KSTP-227468-GO-RFB   \n",
              "1        699928              18547    P130339  IN-KSTP-114607-CS-QCBS   \n",
              "2        699929              18547    P130339  IN-KSTP-114607-CS-QCBS   \n",
              "3        699930              18547    P130339  IN-KSTP-114607-CS-QCBS   \n",
              "4        699931              18547    P130339   IN-KSTP-124424-CW-RFB   \n",
              "..          ...                ...        ...                     ...   \n",
              "305      700232              18547    P130339   IN-KSTP-227465-GO-RFB   \n",
              "306      700233              18547    P130339              WBR No. 20   \n",
              "307      700234              18547    P130339   IN-KSTP-227457-GO-RFB   \n",
              "308      700235              18547    P130339   IN-KSTP-110936-GO-RFB   \n",
              "309      700236              18547    P130339   IN-KSTP-110936-GO-RFB   \n",
              "\n",
              "    Contract ID(384) Complaint Received On Submission Status  \\\n",
              "0            1667392            2021-12-05         Processed   \n",
              "1            1598666            2021-12-05         Processed   \n",
              "2            1598666            2021-12-05         Processed   \n",
              "3            1598666            2021-12-05         Processed   \n",
              "4            1654206            2021-12-05         Processed   \n",
              "..               ...                   ...               ...   \n",
              "305          1667749            2021-12-05         Processed   \n",
              "306          1538038            2021-12-05         Processed   \n",
              "307          1667111            2021-12-05         Processed   \n",
              "308          1667629            2021-12-05         Processed   \n",
              "309          1667639            2021-12-05         Processed   \n",
              "\n",
              "                       Complaint Outcome  Related Cases  Case No.  ...  \\\n",
              "0    Referred - Referred within the Bank            NaN       NaN  ...   \n",
              "1    Referred - Referred within the Bank            NaN       NaN  ...   \n",
              "2    Referred - Referred within the Bank            NaN       NaN  ...   \n",
              "3    Referred - Referred within the Bank            NaN       NaN  ...   \n",
              "4    Referred - Referred within the Bank            NaN       NaN  ...   \n",
              "..                                   ...            ...       ...  ...   \n",
              "305  Referred - Referred within the Bank            NaN       NaN  ...   \n",
              "306  Referred - Referred within the Bank            NaN       NaN  ...   \n",
              "307  Referred - Referred within the Bank            NaN       NaN  ...   \n",
              "308  Referred - Referred within the Bank            NaN       NaN  ...   \n",
              "309  Referred - Referred within the Bank            NaN       NaN  ...   \n",
              "\n",
              "                            Supplier Name   Supplier Country  \\\n",
              "0                              R.K.AGENCY  Republic of India   \n",
              "1    L & T INFRASTRUCTURE ENGINEERING LTD  Republic of India   \n",
              "2    L & T INFRASTRUCTURE ENGINEERING LTD  Republic of India   \n",
              "3    L & T INFRASTRUCTURE ENGINEERING LTD  Republic of India   \n",
              "4         M/S. EKK INFRASTRUCTURE LIMITED  Republic of India   \n",
              "..                                    ...                ...   \n",
              "305     ALLENGERS MEDICAL SYSTEMS LIMITED  Republic of India   \n",
              "306                       JOS ELECTRICALS  Republic of India   \n",
              "307                    UNIVERSAL AGENCIES  Republic of India   \n",
              "308          M/S INDIA MEDTRONIC PVT LTD,  Republic of India   \n",
              "309              CYRIX HEALTHCARE PVT LTD  Republic of India   \n",
              "\n",
              "     Contract Amount (USD)   No Objection Date  Contract Sign Date  \\\n",
              "0                     6,342         2021-08-12          2021-02-23   \n",
              "1                   846,185         2019-11-04          2019-10-17   \n",
              "2                   846,185         2019-11-04          2019-10-17   \n",
              "3                   846,185         2019-11-04          2019-10-17   \n",
              "4                12,765,187         2021-04-27          2020-01-24   \n",
              "..                      ...                ...                 ...   \n",
              "305                   4,677         2021-08-16          2021-02-23   \n",
              "306                 247,045         2016-01-18          2015-03-19   \n",
              "307                   3,773         2021-08-10          2021-04-20   \n",
              "308                 263,905         2021-08-15          2020-06-06   \n",
              "309                  13,989         2021-08-15          2020-08-25   \n",
              "\n",
              "    Contract Status  Financier Number Proc Category Proc Method Case Link  \n",
              "0             CMPLD         IBRD82540            GO         RFB       NaN  \n",
              "1             SIGND         IBRD82540            CS        QCBS       NaN  \n",
              "2             SIGND         IBRD82540            CS        QCBS       NaN  \n",
              "3             SIGND         IBRD82540            CS        QCBS       NaN  \n",
              "4             SIGND         IBRD82540            CW         RFB       NaN  \n",
              "..              ...               ...           ...         ...       ...  \n",
              "305           CMPLD         IBRD82540            GO         RFB       NaN  \n",
              "306           SIGND         IBRD82540            GO         RFB       NaN  \n",
              "307           CMPLD         IBRD82540            GO         RFB       NaN  \n",
              "308           CMPLD         IBRD82540            GO         RFB       NaN  \n",
              "309           CMPLD         IBRD82540            GO         RFB       NaN  \n",
              "\n",
              "[310 rows x 65 columns]>"
            ]
          },
          "metadata": {},
          "execution_count": 14
        }
      ]
    },
    {
      "cell_type": "code",
      "source": [
        "le = LabelEncoder()"
      ],
      "metadata": {
        "id": "j9X3OENArROw"
      },
      "execution_count": 15,
      "outputs": []
    },
    {
      "cell_type": "code",
      "source": [
        "df_encoded = df.apply(le.fit_transform, axis=0)"
      ],
      "metadata": {
        "id": "JZc9YoZpwON6"
      },
      "execution_count": 16,
      "outputs": []
    },
    {
      "cell_type": "code",
      "source": [
        "df_encoded.head"
      ],
      "metadata": {
        "colab": {
          "base_uri": "https://localhost:8080/"
        },
        "id": "PoC_k--MwrTH",
        "outputId": "920b04ab-cadd-4f58-953e-8e5171f1433c"
      },
      "execution_count": 17,
      "outputs": [
        {
          "output_type": "execute_result",
          "data": {
            "text/plain": [
              "<bound method NDFrame.head of      Unnamed: 0  Submission Number  Project ID  Activity Ref No.   \\\n",
              "0             0                  0           0                 29   \n",
              "1             1                  0           0                  8   \n",
              "2             2                  0           0                  8   \n",
              "3             3                  0           0                  8   \n",
              "4             4                  0           0                 10   \n",
              "..          ...                ...         ...                ...   \n",
              "305         305                  0           0                 28   \n",
              "306         306                  0           0                 55   \n",
              "307         307                  0           0                 27   \n",
              "308         308                  0           0                  4   \n",
              "309         309                  0           0                  4   \n",
              "\n",
              "     Contract ID(384)  Complaint Received On  Submission Status  \\\n",
              "0                  57                      0                  0   \n",
              "1                  21                      0                  0   \n",
              "2                  21                      0                  0   \n",
              "3                  21                      0                  0   \n",
              "4                  26                      0                  0   \n",
              "..                ...                    ...                ...   \n",
              "305                83                      0                  0   \n",
              "306                 5                      0                  0   \n",
              "307                54                      0                  0   \n",
              "308                66                      0                  0   \n",
              "309                70                      0                  0   \n",
              "\n",
              "     Complaint Outcome  Related Cases  Case No.  ...  Supplier Name  \\\n",
              "0                    0              0         0  ...             48   \n",
              "1                    0              0         0  ...             31   \n",
              "2                    0              0         0  ...             31   \n",
              "3                    0              0         0  ...             31   \n",
              "4                    0              0         0  ...             38   \n",
              "..                 ...            ...       ...  ...            ...   \n",
              "305                  0              0         0  ...              1   \n",
              "306                  0              0         0  ...             25   \n",
              "307                  0              0         0  ...             60   \n",
              "308                  0              0         0  ...             36   \n",
              "309                  0              0         0  ...              8   \n",
              "\n",
              "     Supplier Country  Contract Amount (USD)   No Objection Date  \\\n",
              "0                   1                      60                 29   \n",
              "1                   1                      79                 16   \n",
              "2                   1                      79                 16   \n",
              "3                   1                      79                 16   \n",
              "4                   1                       9                 20   \n",
              "..                ...                     ...                ...   \n",
              "305                 1                      40                 31   \n",
              "306                 1                      26                  4   \n",
              "307                 1                      32                 28   \n",
              "308                 1                      28                 30   \n",
              "309                 1                      13                 30   \n",
              "\n",
              "     Contract Sign Date  Contract Status  Financier Number  Proc Category  \\\n",
              "0                    51                1                 0              2   \n",
              "1                    21                2                 0              0   \n",
              "2                    21                2                 0              0   \n",
              "3                    21                2                 0              0   \n",
              "4                    27                2                 0              1   \n",
              "..                  ...              ...               ...            ...   \n",
              "305                  51                1                 0              2   \n",
              "306                   4                2                 0              2   \n",
              "307                  55                1                 0              2   \n",
              "308                  32                1                 0              2   \n",
              "309                  42                1                 0              2   \n",
              "\n",
              "     Proc Method  Case Link  \n",
              "0              4          0  \n",
              "1              3          0  \n",
              "2              3          0  \n",
              "3              3          0  \n",
              "4              4          0  \n",
              "..           ...        ...  \n",
              "305            4          0  \n",
              "306            4          0  \n",
              "307            4          0  \n",
              "308            4          0  \n",
              "309            4          0  \n",
              "\n",
              "[310 rows x 65 columns]>"
            ]
          },
          "metadata": {},
          "execution_count": 17
        }
      ]
    },
    {
      "cell_type": "code",
      "source": [
        ""
      ],
      "metadata": {
        "id": "WVQT34sxw3XW"
      },
      "execution_count": null,
      "outputs": []
    }
  ]
}