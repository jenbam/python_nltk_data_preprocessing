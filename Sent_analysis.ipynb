{
  "nbformat": 4,
  "nbformat_minor": 0,
  "metadata": {
    "colab": {
      "name": "Sent_analysis.ipynb",
      "provenance": [],
      "authorship_tag": "ABX9TyNdVFIxfJLXj4be+4Y2bl9E",
      "include_colab_link": true
    },
    "kernelspec": {
      "name": "python3",
      "display_name": "Python 3"
    },
    "language_info": {
      "name": "python"
    }
  },
  "cells": [
    {
      "cell_type": "markdown",
      "metadata": {
        "id": "view-in-github",
        "colab_type": "text"
      },
      "source": [
        "<a href=\"https://colab.research.google.com/github/jenbam/python_nltk_data_preprocessing/blob/main/Sent_analysis.ipynb\" target=\"_parent\"><img src=\"https://colab.research.google.com/assets/colab-badge.svg\" alt=\"Open In Colab\"/></a>"
      ]
    },
    {
      "cell_type": "code",
      "execution_count": 1,
      "metadata": {
        "id": "HPJKY_s8FTQt"
      },
      "outputs": [],
      "source": [
        "X_train = [\"This was awesome an awesome movie\",\n",
        "      \"Great movie! I liked it a lot\",\n",
        "\t  \"Happy Ending! awesome acting by the hero\",\n",
        "\t  \"loved it! truly great\",\n",
        "\t  \"bad not upto the mark\",\n",
        "\t  \"could have been better\",\n",
        "\t  \"Surely a Disappointing movie\"\n",
        "]\n",
        "\n",
        "X_test = [\"I was happy & happy and i loved the acting in the movie\",\n",
        "          \"The movie I saw was bad\"]\n",
        "\n",
        "\n",
        "y_train = [1,1,1,1,0,0,0] # 1 -Positive, 0 - Negative Class"
      ]
    },
    {
      "cell_type": "code",
      "source": [
        "X_train"
      ],
      "metadata": {
        "colab": {
          "base_uri": "https://localhost:8080/"
        },
        "id": "WmBd96mpPoMx",
        "outputId": "40532f82-828e-4664-f637-f109ab036912"
      },
      "execution_count": 2,
      "outputs": [
        {
          "output_type": "execute_result",
          "data": {
            "text/plain": [
              "['This was awesome an awesome movie',\n",
              " 'Great movie! I liked it a lot',\n",
              " 'Happy Ending! awesome acting by the hero',\n",
              " 'loved it! truly great',\n",
              " 'bad not upto the mark',\n",
              " 'could have been better',\n",
              " 'Surely a Disappointing movie']"
            ]
          },
          "metadata": {},
          "execution_count": 2
        }
      ]
    },
    {
      "cell_type": "markdown",
      "source": [
        "Let's clean our data\n",
        "\n",
        "\n",
        "*   Tokenization\n",
        "*   Stemming\n",
        "*   Stop word removal"
      ],
      "metadata": {
        "id": "bPcMKOFKQU1h"
      }
    },
    {
      "cell_type": "code",
      "source": [
        "from nltk.tokenize import RegexpTokenizer"
      ],
      "metadata": {
        "id": "3lwJGiPLP-Qw"
      },
      "execution_count": 3,
      "outputs": []
    },
    {
      "cell_type": "code",
      "source": [
        "from nltk.stem.porter import PorterStemmer\n",
        "from nltk.corpus import stopwords"
      ],
      "metadata": {
        "id": "AEZ9Q89kQ8yg"
      },
      "execution_count": 4,
      "outputs": []
    },
    {
      "cell_type": "code",
      "source": [
        "# import stop words\n",
        "import nltk\n",
        "nltk.download('stopwords')"
      ],
      "metadata": {
        "colab": {
          "base_uri": "https://localhost:8080/"
        },
        "id": "BhhD21twRF1j",
        "outputId": "035341e2-2c50-4c47-be66-7cfbd49c948a"
      },
      "execution_count": 5,
      "outputs": [
        {
          "output_type": "stream",
          "name": "stdout",
          "text": [
            "[nltk_data] Downloading package stopwords to /root/nltk_data...\n",
            "[nltk_data]   Package stopwords is already up-to-date!\n"
          ]
        },
        {
          "output_type": "execute_result",
          "data": {
            "text/plain": [
              "True"
            ]
          },
          "metadata": {},
          "execution_count": 5
        }
      ]
    },
    {
      "cell_type": "code",
      "source": [
        "# Lets create the objects of our classes\n",
        "tokenizer = RegexpTokenizer(r'\\w+')    # i pass the pattern i want, e.g word and also concatenate words\n",
        "# I am using english, so..\n",
        "en_stopwords = set(stopwords.words('english'))\n",
        "ps = PorterStemmer()"
      ],
      "metadata": {
        "id": "I00Z3yzHRiOD"
      },
      "execution_count": 6,
      "outputs": []
    },
    {
      "cell_type": "code",
      "source": [
        "def getCleanedText(text):\n",
        "  text = text.lower()\n",
        "\n",
        "  #tokenize & stopword removal\n",
        "  tokens = tokenizer.tokenize(text)\n",
        "  new_tokens = [token for token in tokens if token not in en_stopwords]\n",
        "\n",
        "  # stemming\n",
        "  stemmed_tokens = [ps.stem(token) for token in new_tokens]\n",
        "\n",
        "  clean_text = \"\".join(stemmed_tokens)\n",
        "\n",
        "  return clean_text"
      ],
      "metadata": {
        "id": "KdwyPM6uWpTa"
      },
      "execution_count": 7,
      "outputs": []
    },
    {
      "cell_type": "code",
      "source": [
        "X_clean = [getCleanedText(i) for i in X_train]\n",
        "Xt_clean = [getCleanedText(i) for i in X_test]"
      ],
      "metadata": {
        "id": "uCoBKXXdtgWU"
      },
      "execution_count": 10,
      "outputs": []
    },
    {
      "cell_type": "code",
      "source": [
        ""
      ],
      "metadata": {
        "id": "zgDqY7kMu8i9"
      },
      "execution_count": null,
      "outputs": []
    }
  ]
}