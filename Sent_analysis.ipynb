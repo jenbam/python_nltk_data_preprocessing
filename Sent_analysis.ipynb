{
  "nbformat": 4,
  "nbformat_minor": 0,
  "metadata": {
    "colab": {
      "name": "Sent_analysis.ipynb",
      "provenance": [],
      "authorship_tag": "ABX9TyNnuBJ7jzIu34R2vq27pybe",
      "include_colab_link": true
    },
    "kernelspec": {
      "name": "python3",
      "display_name": "Python 3"
    },
    "language_info": {
      "name": "python"
    }
  },
  "cells": [
    {
      "cell_type": "markdown",
      "metadata": {
        "id": "view-in-github",
        "colab_type": "text"
      },
      "source": [
        "<a href=\"https://colab.research.google.com/github/jenbam/python_nltk_data_preprocessing/blob/main/Sent_analysis.ipynb\" target=\"_parent\"><img src=\"https://colab.research.google.com/assets/colab-badge.svg\" alt=\"Open In Colab\"/></a>"
      ]
    },
    {
      "cell_type": "code",
      "execution_count": 73,
      "metadata": {
        "id": "HPJKY_s8FTQt"
      },
      "outputs": [],
      "source": [
        "X_train = [\"This was awesome an awesome movie\",\n",
        "      \"Great movie! I liked it a lot\",\n",
        "\t  \"Happy Ending! awesome acting by the hero\",\n",
        "\t  \"loved it! truly great\",\n",
        "\t  \"bad not upto the mark\",\n",
        "\t  \"could have been better\",\n",
        "\t  \"Surely a Disappointing movie\"\n",
        "]\n",
        "\n",
        "X_test = [\"I was happy & happy and i loved the acting in the movie\",\n",
        "          \"The movie I saw was bad\"]\n",
        "\n",
        "\n",
        "y_train = [1,1,1,1,0,0,0] # 1 -Positive, 0 - Negative Class"
      ]
    },
    {
      "cell_type": "code",
      "source": [
        "X_train"
      ],
      "metadata": {
        "colab": {
          "base_uri": "https://localhost:8080/"
        },
        "id": "WmBd96mpPoMx",
        "outputId": "d5ababa7-b161-4691-b9c4-63e9e0bde3e1"
      },
      "execution_count": 74,
      "outputs": [
        {
          "output_type": "execute_result",
          "data": {
            "text/plain": [
              "['This was awesome an awesome movie',\n",
              " 'Great movie! I liked it a lot',\n",
              " 'Happy Ending! awesome acting by the hero',\n",
              " 'loved it! truly great',\n",
              " 'bad not upto the mark',\n",
              " 'could have been better',\n",
              " 'Surely a Disappointing movie']"
            ]
          },
          "metadata": {},
          "execution_count": 74
        }
      ]
    },
    {
      "cell_type": "markdown",
      "source": [
        "Let's clean our data\n",
        "\n",
        "\n",
        "*   Tokenization\n",
        "*   Stemming\n",
        "*   Stop word removal"
      ],
      "metadata": {
        "id": "bPcMKOFKQU1h"
      }
    },
    {
      "cell_type": "code",
      "source": [
        "from nltk.tokenize import RegexpTokenizer"
      ],
      "metadata": {
        "id": "3lwJGiPLP-Qw"
      },
      "execution_count": 75,
      "outputs": []
    },
    {
      "cell_type": "code",
      "source": [
        "from nltk.stem.porter import PorterStemmer\n",
        "from nltk.corpus import stopwords"
      ],
      "metadata": {
        "id": "AEZ9Q89kQ8yg"
      },
      "execution_count": 76,
      "outputs": []
    },
    {
      "cell_type": "code",
      "source": [
        "# import stop words\n",
        "import nltk\n",
        "nltk.download('stopwords')"
      ],
      "metadata": {
        "colab": {
          "base_uri": "https://localhost:8080/"
        },
        "id": "BhhD21twRF1j",
        "outputId": "75b3de49-426a-49ee-ad1d-a564566acbf2"
      },
      "execution_count": 77,
      "outputs": [
        {
          "output_type": "stream",
          "name": "stdout",
          "text": [
            "[nltk_data] Downloading package stopwords to /root/nltk_data...\n",
            "[nltk_data]   Package stopwords is already up-to-date!\n"
          ]
        },
        {
          "output_type": "execute_result",
          "data": {
            "text/plain": [
              "True"
            ]
          },
          "metadata": {},
          "execution_count": 77
        }
      ]
    },
    {
      "cell_type": "code",
      "source": [
        "# Lets create the objects of our classes\n",
        "tokenizer = RegexpTokenizer(r'\\w+')    # i pass the pattern i want, e.g word and also concatenate words\n",
        "# I am using english, so..\n",
        "en_stopwords = set(stopwords.words('english'))\n",
        "ps = PorterStemmer()"
      ],
      "metadata": {
        "id": "I00Z3yzHRiOD"
      },
      "execution_count": 78,
      "outputs": []
    },
    {
      "cell_type": "code",
      "source": [
        "def getCleanedText(text):\n",
        "  text = text.lower()\n",
        "\n",
        "  #tokenize & stopword removal\n",
        "  tokens = tokenizer.tokenize(text)\n",
        "  new_tokens = [token for token in tokens if token not in en_stopwords]\n",
        "\n",
        "  # stemming\n",
        "  stemmed_tokens = [ps.stem(token) for token in new_tokens]\n",
        "\n",
        "  clean_text = \" \".join(stemmed_tokens)\n",
        "\n",
        "  return clean_text"
      ],
      "metadata": {
        "id": "KdwyPM6uWpTa"
      },
      "execution_count": 79,
      "outputs": []
    },
    {
      "cell_type": "code",
      "source": [
        "X_clean = [getCleanedText(i) for i in X_train]\n",
        "Xt_clean = [getCleanedText(i) for i in X_test]"
      ],
      "metadata": {
        "id": "uCoBKXXdtgWU"
      },
      "execution_count": 80,
      "outputs": []
    },
    {
      "cell_type": "code",
      "source": [
        "X_clean "
      ],
      "metadata": {
        "colab": {
          "base_uri": "https://localhost:8080/"
        },
        "id": "zgDqY7kMu8i9",
        "outputId": "b1b82ae0-0dc4-4564-d353-ae909f5cbe0e"
      },
      "execution_count": 81,
      "outputs": [
        {
          "output_type": "execute_result",
          "data": {
            "text/plain": [
              "['awesom awesom movi',\n",
              " 'great movi like lot',\n",
              " 'happi end awesom act hero',\n",
              " 'love truli great',\n",
              " 'bad upto mark',\n",
              " 'could better',\n",
              " 'sure disappoint movi']"
            ]
          },
          "metadata": {},
          "execution_count": 81
        }
      ]
    },
    {
      "cell_type": "markdown",
      "source": [
        "# Vectorization "
      ],
      "metadata": {
        "id": "T4r44MIDvuN3"
      }
    },
    {
      "cell_type": "code",
      "source": [
        "from sklearn.feature_extraction.text import CountVectorizer\n"
      ],
      "metadata": {
        "id": "g1fVFs0YvX3a"
      },
      "execution_count": 82,
      "outputs": []
    },
    {
      "cell_type": "code",
      "source": [
        "cv = CountVectorizer(ngram_range=(1,2))"
      ],
      "metadata": {
        "id": "jiKf-JDDwJiY"
      },
      "execution_count": 83,
      "outputs": []
    },
    {
      "cell_type": "code",
      "source": [
        "X_vec = cv.fit_transform(X_clean).toarray()"
      ],
      "metadata": {
        "id": "g0VI2rfwwkWC"
      },
      "execution_count": 84,
      "outputs": []
    },
    {
      "cell_type": "code",
      "source": [
        "X_vec \n"
      ],
      "metadata": {
        "colab": {
          "base_uri": "https://localhost:8080/"
        },
        "id": "3U6di3kmwwqN",
        "outputId": "1693e2fc-9fbd-4eda-83d3-1350d732a502"
      },
      "execution_count": 85,
      "outputs": [
        {
          "output_type": "execute_result",
          "data": {
            "text/plain": [
              "array([[0, 0, 2, 0, 1, 1, 0, 0, 0, 0, 0, 0, 0, 0, 0, 0, 0, 0, 0, 0, 0, 0,\n",
              "        0, 0, 0, 0, 1, 0, 0, 0, 0, 0, 0, 0],\n",
              "       [0, 0, 0, 0, 0, 0, 0, 0, 0, 0, 0, 0, 0, 0, 0, 1, 1, 0, 0, 0, 1, 1,\n",
              "        1, 0, 0, 0, 1, 1, 0, 0, 0, 0, 0, 0],\n",
              "       [1, 1, 1, 1, 0, 0, 0, 0, 0, 0, 0, 0, 0, 1, 1, 0, 0, 1, 1, 1, 0, 0,\n",
              "        0, 0, 0, 0, 0, 0, 0, 0, 0, 0, 0, 0],\n",
              "       [0, 0, 0, 0, 0, 0, 0, 0, 0, 0, 0, 0, 0, 0, 0, 1, 0, 0, 0, 0, 0, 0,\n",
              "        0, 1, 1, 0, 0, 0, 0, 0, 1, 1, 0, 0],\n",
              "       [0, 0, 0, 0, 0, 0, 1, 1, 0, 0, 0, 0, 0, 0, 0, 0, 0, 0, 0, 0, 0, 0,\n",
              "        0, 0, 0, 1, 0, 0, 0, 0, 0, 0, 1, 1],\n",
              "       [0, 0, 0, 0, 0, 0, 0, 0, 1, 1, 1, 0, 0, 0, 0, 0, 0, 0, 0, 0, 0, 0,\n",
              "        0, 0, 0, 0, 0, 0, 0, 0, 0, 0, 0, 0],\n",
              "       [0, 0, 0, 0, 0, 0, 0, 0, 0, 0, 0, 1, 1, 0, 0, 0, 0, 0, 0, 0, 0, 0,\n",
              "        0, 0, 0, 0, 1, 0, 1, 1, 0, 0, 0, 0]])"
            ]
          },
          "metadata": {},
          "execution_count": 85
        }
      ]
    },
    {
      "cell_type": "code",
      "source": [
        "print(cv.get_feature_names_out())   # Bag of Word Model"
      ],
      "metadata": {
        "colab": {
          "base_uri": "https://localhost:8080/"
        },
        "id": "3nFVP4kZw2-e",
        "outputId": "1e897078-68df-4f49-b80b-447f320578dd"
      },
      "execution_count": 86,
      "outputs": [
        {
          "output_type": "stream",
          "name": "stdout",
          "text": [
            "['act' 'act hero' 'awesom' 'awesom act' 'awesom awesom' 'awesom movi'\n",
            " 'bad' 'bad upto' 'better' 'could' 'could better' 'disappoint'\n",
            " 'disappoint movi' 'end' 'end awesom' 'great' 'great movi' 'happi'\n",
            " 'happi end' 'hero' 'like' 'like lot' 'lot' 'love' 'love truli' 'mark'\n",
            " 'movi' 'movi like' 'sure' 'sure disappoint' 'truli' 'truli great' 'upto'\n",
            " 'upto mark']\n"
          ]
        }
      ]
    },
    {
      "cell_type": "code",
      "source": [
        "Xt_vec = cv.transform(Xt_clean).toarray()"
      ],
      "metadata": {
        "id": "keGnXWmzxx0W"
      },
      "execution_count": 87,
      "outputs": []
    },
    {
      "cell_type": "markdown",
      "source": [
        "### Classification - using Multinominal Naive Bayes\n",
        "\n",
        "\n",
        "\n"
      ],
      "metadata": {
        "id": "vLTw2TxfzYJ0"
      }
    },
    {
      "cell_type": "code",
      "source": [
        "## Multinomial Naive Bayes\n",
        "from sklearn.naive_bayes import MultinomialNB"
      ],
      "metadata": {
        "id": "wSdjqix2zMT7"
      },
      "execution_count": 88,
      "outputs": []
    },
    {
      "cell_type": "code",
      "source": [
        "mn = MultinomialNB()"
      ],
      "metadata": {
        "id": "xy76Gamrz9vj"
      },
      "execution_count": 89,
      "outputs": []
    },
    {
      "cell_type": "code",
      "source": [
        "mn.fit(X_vec, y_train)"
      ],
      "metadata": {
        "colab": {
          "base_uri": "https://localhost:8080/"
        },
        "id": "TLl3fnBY0Bsl",
        "outputId": "44324ced-33f1-4829-9d11-bee881156870"
      },
      "execution_count": 93,
      "outputs": [
        {
          "output_type": "execute_result",
          "data": {
            "text/plain": [
              "MultinomialNB()"
            ]
          },
          "metadata": {},
          "execution_count": 93
        }
      ]
    },
    {
      "cell_type": "code",
      "source": [
        "y_pred = mn.predict(Xt_vec)"
      ],
      "metadata": {
        "id": "FsXbYVHC0FXl"
      },
      "execution_count": 94,
      "outputs": []
    },
    {
      "cell_type": "code",
      "source": [
        "y_pred "
      ],
      "metadata": {
        "colab": {
          "base_uri": "https://localhost:8080/"
        },
        "id": "R3YCMpe20uVv",
        "outputId": "f168b852-e9da-4448-ef6d-909e4f414f63"
      },
      "execution_count": 95,
      "outputs": [
        {
          "output_type": "execute_result",
          "data": {
            "text/plain": [
              "array([1, 0])"
            ]
          },
          "metadata": {},
          "execution_count": 95
        }
      ]
    },
    {
      "cell_type": "code",
      "source": [
        ""
      ],
      "metadata": {
        "id": "f0hVp3pY1NHs"
      },
      "execution_count": null,
      "outputs": []
    }
  ]
}